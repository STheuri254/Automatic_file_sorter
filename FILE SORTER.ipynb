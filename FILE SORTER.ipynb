{
 "cells": [
  {
   "cell_type": "markdown",
   "id": "a5fa4ffd",
   "metadata": {},
   "source": [
    "## Automatic File sorter in FILE EXPLORER"
   ]
  },
  {
   "cell_type": "code",
   "execution_count": 1,
   "id": "04437ac8",
   "metadata": {},
   "outputs": [],
   "source": [
    "import os, shutil"
   ]
  },
  {
   "cell_type": "code",
   "execution_count": 8,
   "id": "7575a5d1",
   "metadata": {},
   "outputs": [],
   "source": [
    "path = r\"C:/Users/Admin/Desktop/AJIRA DOCS/\""
   ]
  },
  {
   "cell_type": "code",
   "execution_count": 9,
   "id": "915ef56a",
   "metadata": {},
   "outputs": [
    {
     "data": {
      "text/plain": [
       "['AJIRA CLUB MMU OFFICE 202425.pdf',\n",
       " 'AJIRA CLUB MMU OFFICE.pdf',\n",
       " 'Ajira Work Plan.docx',\n",
       " 'IYF Fare Reimbursement.docx',\n",
       " 'IYF Training.xlsx',\n",
       " 'JUJA GACHORORO.docx',\n",
       " 'KIAMBU KABETE FARE.docx',\n",
       " 'Kiambu Kabete SubCounty Training.xlsx',\n",
       " 'LIMURU FARE.docx',\n",
       " 'MMU Ajira Training.xlsx',\n",
       " 'MMU SCAN AJIRA TRAINING.pdf',\n",
       " 'Mumbuni Ajira Fare Reimbursement.docx']"
      ]
     },
     "execution_count": 9,
     "metadata": {},
     "output_type": "execute_result"
    }
   ],
   "source": [
    "os.listdir(path)"
   ]
  },
  {
   "cell_type": "code",
   "execution_count": 12,
   "id": "1aaed428",
   "metadata": {},
   "outputs": [],
   "source": [
    "file_name = os.listdir(path)"
   ]
  },
  {
   "cell_type": "code",
   "execution_count": 11,
   "id": "2d80e31a",
   "metadata": {},
   "outputs": [],
   "source": [
    "folder_names = ['text files', 'csv files', 'image files']\n",
    "\n",
    "\n",
    "for loop in range(0,3):\n",
    "    if not os.path.exists(path + folder_names[loop]):\n",
    "        os.makedirs((path + folder_names[loop]))"
   ]
  },
  {
   "cell_type": "code",
   "execution_count": 15,
   "id": "f997b077",
   "metadata": {},
   "outputs": [],
   "source": [
    "for file in file_name:\n",
    "    if \".xlsx\" in file and not os.path.exists(path + \"csv files/\" + file):\n",
    "        shutil.move(path + file, path + \"csv files/\" + file)\n",
    "    elif \".pdf\" in file and not os.path.exists(path + \"text files/\" + file):\n",
    "        shutil.move(path + file, path + \"text files/\" + file)\n",
    "    elif \".docx\" in file and not os.path.exists(path + \"text files/\" + file):\n",
    "        shutil.move(path + file, path + \"text files/\" + file)\n"
   ]
  },
  {
   "cell_type": "code",
   "execution_count": null,
   "id": "adbe158c",
   "metadata": {},
   "outputs": [],
   "source": []
  }
 ],
 "metadata": {
  "kernelspec": {
   "display_name": "Python 3 (ipykernel)",
   "language": "python",
   "name": "python3"
  },
  "language_info": {
   "codemirror_mode": {
    "name": "ipython",
    "version": 3
   },
   "file_extension": ".py",
   "mimetype": "text/x-python",
   "name": "python",
   "nbconvert_exporter": "python",
   "pygments_lexer": "ipython3",
   "version": "3.11.5"
  }
 },
 "nbformat": 4,
 "nbformat_minor": 5
}
